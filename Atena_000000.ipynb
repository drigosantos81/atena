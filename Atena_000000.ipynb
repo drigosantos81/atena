{
 "cells": [
  {
   "cell_type": "code",
   "execution_count": 2,
   "metadata": {},
   "outputs": [
    {
     "name": "stdout",
     "output_type": "stream",
     "text": [
      "Collecting streamlit_option_menu\n",
      "  Downloading streamlit_option_menu-0.3.2-py3-none-any.whl (712 kB)\n",
      "Requirement already satisfied: streamlit>=0.63 in c:\\users\\u344173\\anaconda3\\lib\\site-packages (from streamlit_option_menu) (1.10.0)\n",
      "Requirement already satisfied: tzlocal in c:\\users\\u344173\\anaconda3\\lib\\site-packages (from streamlit>=0.63->streamlit_option_menu) (4.2)\n",
      "Requirement already satisfied: pympler>=0.9 in c:\\users\\u344173\\anaconda3\\lib\\site-packages (from streamlit>=0.63->streamlit_option_menu) (1.0.1)\n",
      "Requirement already satisfied: python-dateutil in c:\\users\\u344173\\anaconda3\\lib\\site-packages (from streamlit>=0.63->streamlit_option_menu) (2.8.2)\n",
      "Requirement already satisfied: packaging in c:\\users\\u344173\\anaconda3\\lib\\site-packages (from streamlit>=0.63->streamlit_option_menu) (21.0)\n",
      "Requirement already satisfied: watchdog in c:\\users\\u344173\\anaconda3\\lib\\site-packages (from streamlit>=0.63->streamlit_option_menu) (2.1.3)\n",
      "Requirement already satisfied: typing-extensions in c:\\users\\u344173\\anaconda3\\lib\\site-packages (from streamlit>=0.63->streamlit_option_menu) (3.10.0.2)\n",
      "Requirement already satisfied: validators in c:\\users\\u344173\\anaconda3\\lib\\site-packages (from streamlit>=0.63->streamlit_option_menu) (0.20.0)\n",
      "Requirement already satisfied: blinker in c:\\users\\u344173\\anaconda3\\lib\\site-packages (from streamlit>=0.63->streamlit_option_menu) (1.4)\n",
      "Requirement already satisfied: requests in c:\\users\\u344173\\anaconda3\\lib\\site-packages (from streamlit>=0.63->streamlit_option_menu) (2.26.0)\n",
      "Requirement already satisfied: pandas>=0.21.0 in c:\\users\\u344173\\anaconda3\\lib\\site-packages (from streamlit>=0.63->streamlit_option_menu) (1.3.4)\n",
      "Requirement already satisfied: gitpython!=3.1.19 in c:\\users\\u344173\\anaconda3\\lib\\site-packages (from streamlit>=0.63->streamlit_option_menu) (3.1.27)\n",
      "Requirement already satisfied: protobuf<4,>=3.12 in c:\\users\\u344173\\anaconda3\\lib\\site-packages (from streamlit>=0.63->streamlit_option_menu) (3.20.1)\n",
      "Requirement already satisfied: tornado>=5.0 in c:\\users\\u344173\\anaconda3\\lib\\site-packages (from streamlit>=0.63->streamlit_option_menu) (6.1)\n",
      "Requirement already satisfied: altair>=3.2.0 in c:\\users\\u344173\\anaconda3\\lib\\site-packages (from streamlit>=0.63->streamlit_option_menu) (4.2.0)\n",
      "Requirement already satisfied: pyarrow in c:\\users\\u344173\\anaconda3\\lib\\site-packages (from streamlit>=0.63->streamlit_option_menu) (8.0.0)\n",
      "Requirement already satisfied: importlib-metadata>=1.4 in c:\\users\\u344173\\anaconda3\\lib\\site-packages (from streamlit>=0.63->streamlit_option_menu) (4.8.1)\n",
      "Requirement already satisfied: click>=7.0 in c:\\users\\u344173\\anaconda3\\lib\\site-packages (from streamlit>=0.63->streamlit_option_menu) (8.0.3)\n",
      "Requirement already satisfied: toml in c:\\users\\u344173\\anaconda3\\lib\\site-packages (from streamlit>=0.63->streamlit_option_menu) (0.10.2)\n",
      "Requirement already satisfied: rich in c:\\users\\u344173\\anaconda3\\lib\\site-packages (from streamlit>=0.63->streamlit_option_menu) (12.4.4)\n",
      "Requirement already satisfied: numpy in c:\\users\\u344173\\anaconda3\\lib\\site-packages (from streamlit>=0.63->streamlit_option_menu) (1.20.3)\n",
      "Requirement already satisfied: attrs in c:\\users\\u344173\\anaconda3\\lib\\site-packages (from streamlit>=0.63->streamlit_option_menu) (21.2.0)\n",
      "Requirement already satisfied: pydeck>=0.1.dev5 in c:\\users\\u344173\\anaconda3\\lib\\site-packages (from streamlit>=0.63->streamlit_option_menu) (0.7.1)\n",
      "Requirement already satisfied: semver in c:\\users\\u344173\\anaconda3\\lib\\site-packages (from streamlit>=0.63->streamlit_option_menu) (2.13.0)\n",
      "Requirement already satisfied: pillow>=6.2.0 in c:\\users\\u344173\\anaconda3\\lib\\site-packages (from streamlit>=0.63->streamlit_option_menu) (8.4.0)\n",
      "Requirement already satisfied: cachetools>=4.0 in c:\\users\\u344173\\anaconda3\\lib\\site-packages (from streamlit>=0.63->streamlit_option_menu) (5.2.0)\n",
      "Requirement already satisfied: entrypoints in c:\\users\\u344173\\anaconda3\\lib\\site-packages (from altair>=3.2.0->streamlit>=0.63->streamlit_option_menu) (0.3)\n",
      "Requirement already satisfied: jsonschema>=3.0 in c:\\users\\u344173\\anaconda3\\lib\\site-packages (from altair>=3.2.0->streamlit>=0.63->streamlit_option_menu) (3.2.0)\n",
      "Requirement already satisfied: jinja2 in c:\\users\\u344173\\anaconda3\\lib\\site-packages (from altair>=3.2.0->streamlit>=0.63->streamlit_option_menu) (3.1.2)\n",
      "Requirement already satisfied: toolz in c:\\users\\u344173\\anaconda3\\lib\\site-packages (from altair>=3.2.0->streamlit>=0.63->streamlit_option_menu) (0.11.1)\n",
      "Requirement already satisfied: colorama in c:\\users\\u344173\\anaconda3\\lib\\site-packages (from click>=7.0->streamlit>=0.63->streamlit_option_menu) (0.4.4)\n",
      "Requirement already satisfied: gitdb<5,>=4.0.1 in c:\\users\\u344173\\anaconda3\\lib\\site-packages (from gitpython!=3.1.19->streamlit>=0.63->streamlit_option_menu) (4.0.9)\n",
      "Requirement already satisfied: smmap<6,>=3.0.1 in c:\\users\\u344173\\anaconda3\\lib\\site-packages (from gitdb<5,>=4.0.1->gitpython!=3.1.19->streamlit>=0.63->streamlit_option_menu) (5.0.0)\n",
      "Requirement already satisfied: zipp>=0.5 in c:\\users\\u344173\\anaconda3\\lib\\site-packages (from importlib-metadata>=1.4->streamlit>=0.63->streamlit_option_menu) (3.6.0)\n",
      "Requirement already satisfied: pyrsistent>=0.14.0 in c:\\users\\u344173\\anaconda3\\lib\\site-packages (from jsonschema>=3.0->altair>=3.2.0->streamlit>=0.63->streamlit_option_menu) (0.18.0)\n",
      "Requirement already satisfied: six>=1.11.0 in c:\\users\\u344173\\anaconda3\\lib\\site-packages (from jsonschema>=3.0->altair>=3.2.0->streamlit>=0.63->streamlit_option_menu) (1.16.0)\n",
      "Requirement already satisfied: setuptools in c:\\users\\u344173\\anaconda3\\lib\\site-packages (from jsonschema>=3.0->altair>=3.2.0->streamlit>=0.63->streamlit_option_menu) (58.0.4)\n",
      "Requirement already satisfied: pytz>=2017.3 in c:\\users\\u344173\\anaconda3\\lib\\site-packages (from pandas>=0.21.0->streamlit>=0.63->streamlit_option_menu) (2021.3)\n",
      "Requirement already satisfied: ipywidgets>=7.0.0 in c:\\users\\u344173\\anaconda3\\lib\\site-packages (from pydeck>=0.1.dev5->streamlit>=0.63->streamlit_option_menu) (7.6.5)\n",
      "Requirement already satisfied: traitlets>=4.3.2 in c:\\users\\u344173\\anaconda3\\lib\\site-packages (from pydeck>=0.1.dev5->streamlit>=0.63->streamlit_option_menu) (5.1.0)\n",
      "Requirement already satisfied: ipykernel>=5.1.2 in c:\\users\\u344173\\anaconda3\\lib\\site-packages (from pydeck>=0.1.dev5->streamlit>=0.63->streamlit_option_menu) (6.4.1)\n",
      "Requirement already satisfied: matplotlib-inline<0.2.0,>=0.1.0 in c:\\users\\u344173\\anaconda3\\lib\\site-packages (from ipykernel>=5.1.2->pydeck>=0.1.dev5->streamlit>=0.63->streamlit_option_menu) (0.1.2)\n",
      "Requirement already satisfied: ipython<8.0,>=7.23.1 in c:\\users\\u344173\\anaconda3\\lib\\site-packages (from ipykernel>=5.1.2->pydeck>=0.1.dev5->streamlit>=0.63->streamlit_option_menu) (7.29.0)\n",
      "Requirement already satisfied: jupyter-client<8.0 in c:\\users\\u344173\\anaconda3\\lib\\site-packages (from ipykernel>=5.1.2->pydeck>=0.1.dev5->streamlit>=0.63->streamlit_option_menu) (6.1.12)\n",
      "Requirement already satisfied: debugpy<2.0,>=1.0.0 in c:\\users\\u344173\\anaconda3\\lib\\site-packages (from ipykernel>=5.1.2->pydeck>=0.1.dev5->streamlit>=0.63->streamlit_option_menu) (1.4.1)\n",
      "Requirement already satisfied: ipython-genutils in c:\\users\\u344173\\anaconda3\\lib\\site-packages (from ipykernel>=5.1.2->pydeck>=0.1.dev5->streamlit>=0.63->streamlit_option_menu) (0.2.0)\n",
      "Requirement already satisfied: jedi>=0.16 in c:\\users\\u344173\\anaconda3\\lib\\site-packages (from ipython<8.0,>=7.23.1->ipykernel>=5.1.2->pydeck>=0.1.dev5->streamlit>=0.63->streamlit_option_menu) (0.18.0)\n",
      "Requirement already satisfied: prompt-toolkit!=3.0.0,!=3.0.1,<3.1.0,>=2.0.0 in c:\\users\\u344173\\anaconda3\\lib\\site-packages (from ipython<8.0,>=7.23.1->ipykernel>=5.1.2->pydeck>=0.1.dev5->streamlit>=0.63->streamlit_option_menu) (3.0.20)\n",
      "Requirement already satisfied: pickleshare in c:\\users\\u344173\\anaconda3\\lib\\site-packages (from ipython<8.0,>=7.23.1->ipykernel>=5.1.2->pydeck>=0.1.dev5->streamlit>=0.63->streamlit_option_menu) (0.7.5)\n",
      "Requirement already satisfied: decorator in c:\\users\\u344173\\anaconda3\\lib\\site-packages (from ipython<8.0,>=7.23.1->ipykernel>=5.1.2->pydeck>=0.1.dev5->streamlit>=0.63->streamlit_option_menu) (5.1.0)\n",
      "Requirement already satisfied: pygments in c:\\users\\u344173\\anaconda3\\lib\\site-packages (from ipython<8.0,>=7.23.1->ipykernel>=5.1.2->pydeck>=0.1.dev5->streamlit>=0.63->streamlit_option_menu) (2.10.0)\n",
      "Requirement already satisfied: backcall in c:\\users\\u344173\\anaconda3\\lib\\site-packages (from ipython<8.0,>=7.23.1->ipykernel>=5.1.2->pydeck>=0.1.dev5->streamlit>=0.63->streamlit_option_menu) (0.2.0)\n",
      "Requirement already satisfied: nbformat>=4.2.0 in c:\\users\\u344173\\anaconda3\\lib\\site-packages (from ipywidgets>=7.0.0->pydeck>=0.1.dev5->streamlit>=0.63->streamlit_option_menu) (5.1.3)\n",
      "Requirement already satisfied: widgetsnbextension~=3.5.0 in c:\\users\\u344173\\anaconda3\\lib\\site-packages (from ipywidgets>=7.0.0->pydeck>=0.1.dev5->streamlit>=0.63->streamlit_option_menu) (3.5.1)\n",
      "Requirement already satisfied: jupyterlab-widgets>=1.0.0 in c:\\users\\u344173\\anaconda3\\lib\\site-packages (from ipywidgets>=7.0.0->pydeck>=0.1.dev5->streamlit>=0.63->streamlit_option_menu) (1.0.0)\n",
      "Requirement already satisfied: parso<0.9.0,>=0.8.0 in c:\\users\\u344173\\anaconda3\\lib\\site-packages (from jedi>=0.16->ipython<8.0,>=7.23.1->ipykernel>=5.1.2->pydeck>=0.1.dev5->streamlit>=0.63->streamlit_option_menu) (0.8.2)\n",
      "Requirement already satisfied: MarkupSafe>=2.0 in c:\\users\\u344173\\anaconda3\\lib\\site-packages (from jinja2->altair>=3.2.0->streamlit>=0.63->streamlit_option_menu) (2.0.1)\n",
      "Requirement already satisfied: jupyter-core>=4.6.0 in c:\\users\\u344173\\anaconda3\\lib\\site-packages (from jupyter-client<8.0->ipykernel>=5.1.2->pydeck>=0.1.dev5->streamlit>=0.63->streamlit_option_menu) (4.8.1)\n",
      "Requirement already satisfied: pyzmq>=13 in c:\\users\\u344173\\anaconda3\\lib\\site-packages (from jupyter-client<8.0->ipykernel>=5.1.2->pydeck>=0.1.dev5->streamlit>=0.63->streamlit_option_menu) (22.2.1)\n",
      "Requirement already satisfied: pywin32>=1.0 in c:\\users\\u344173\\anaconda3\\lib\\site-packages (from jupyter-core>=4.6.0->jupyter-client<8.0->ipykernel>=5.1.2->pydeck>=0.1.dev5->streamlit>=0.63->streamlit_option_menu) (228)\n",
      "Requirement already satisfied: wcwidth in c:\\users\\u344173\\anaconda3\\lib\\site-packages (from prompt-toolkit!=3.0.0,!=3.0.1,<3.1.0,>=2.0.0->ipython<8.0,>=7.23.1->ipykernel>=5.1.2->pydeck>=0.1.dev5->streamlit>=0.63->streamlit_option_menu) (0.2.5)\n",
      "Requirement already satisfied: notebook>=4.4.1 in c:\\users\\u344173\\anaconda3\\lib\\site-packages (from widgetsnbextension~=3.5.0->ipywidgets>=7.0.0->pydeck>=0.1.dev5->streamlit>=0.63->streamlit_option_menu) (6.4.5)\n",
      "Requirement already satisfied: argon2-cffi in c:\\users\\u344173\\anaconda3\\lib\\site-packages (from notebook>=4.4.1->widgetsnbextension~=3.5.0->ipywidgets>=7.0.0->pydeck>=0.1.dev5->streamlit>=0.63->streamlit_option_menu) (20.1.0)\n",
      "Requirement already satisfied: Send2Trash>=1.5.0 in c:\\users\\u344173\\anaconda3\\lib\\site-packages (from notebook>=4.4.1->widgetsnbextension~=3.5.0->ipywidgets>=7.0.0->pydeck>=0.1.dev5->streamlit>=0.63->streamlit_option_menu) (1.8.0)\n",
      "Requirement already satisfied: prometheus-client in c:\\users\\u344173\\anaconda3\\lib\\site-packages (from notebook>=4.4.1->widgetsnbextension~=3.5.0->ipywidgets>=7.0.0->pydeck>=0.1.dev5->streamlit>=0.63->streamlit_option_menu) (0.11.0)\n",
      "Requirement already satisfied: nbconvert in c:\\users\\u344173\\anaconda3\\lib\\site-packages (from notebook>=4.4.1->widgetsnbextension~=3.5.0->ipywidgets>=7.0.0->pydeck>=0.1.dev5->streamlit>=0.63->streamlit_option_menu) (6.5.0)\n",
      "Requirement already satisfied: terminado>=0.8.3 in c:\\users\\u344173\\anaconda3\\lib\\site-packages (from notebook>=4.4.1->widgetsnbextension~=3.5.0->ipywidgets>=7.0.0->pydeck>=0.1.dev5->streamlit>=0.63->streamlit_option_menu) (0.9.4)\n",
      "Requirement already satisfied: pywinpty>=0.5 in c:\\users\\u344173\\anaconda3\\lib\\site-packages (from terminado>=0.8.3->notebook>=4.4.1->widgetsnbextension~=3.5.0->ipywidgets>=7.0.0->pydeck>=0.1.dev5->streamlit>=0.63->streamlit_option_menu) (0.5.7)\n",
      "Requirement already satisfied: cffi>=1.0.0 in c:\\users\\u344173\\anaconda3\\lib\\site-packages (from argon2-cffi->notebook>=4.4.1->widgetsnbextension~=3.5.0->ipywidgets>=7.0.0->pydeck>=0.1.dev5->streamlit>=0.63->streamlit_option_menu) (1.14.6)\n",
      "Requirement already satisfied: pycparser in c:\\users\\u344173\\anaconda3\\lib\\site-packages (from cffi>=1.0.0->argon2-cffi->notebook>=4.4.1->widgetsnbextension~=3.5.0->ipywidgets>=7.0.0->pydeck>=0.1.dev5->streamlit>=0.63->streamlit_option_menu) (2.20)\n",
      "Requirement already satisfied: mistune<2,>=0.8.1 in c:\\users\\u344173\\anaconda3\\lib\\site-packages (from nbconvert->notebook>=4.4.1->widgetsnbextension~=3.5.0->ipywidgets>=7.0.0->pydeck>=0.1.dev5->streamlit>=0.63->streamlit_option_menu) (0.8.4)\n",
      "Requirement already satisfied: jupyterlab-pygments in c:\\users\\u344173\\anaconda3\\lib\\site-packages (from nbconvert->notebook>=4.4.1->widgetsnbextension~=3.5.0->ipywidgets>=7.0.0->pydeck>=0.1.dev5->streamlit>=0.63->streamlit_option_menu) (0.1.2)\n",
      "Requirement already satisfied: beautifulsoup4 in c:\\users\\u344173\\anaconda3\\lib\\site-packages (from nbconvert->notebook>=4.4.1->widgetsnbextension~=3.5.0->ipywidgets>=7.0.0->pydeck>=0.1.dev5->streamlit>=0.63->streamlit_option_menu) (4.10.0)\n",
      "Requirement already satisfied: bleach in c:\\users\\u344173\\anaconda3\\lib\\site-packages (from nbconvert->notebook>=4.4.1->widgetsnbextension~=3.5.0->ipywidgets>=7.0.0->pydeck>=0.1.dev5->streamlit>=0.63->streamlit_option_menu) (4.0.0)\n",
      "Requirement already satisfied: nbclient>=0.5.0 in c:\\users\\u344173\\anaconda3\\lib\\site-packages (from nbconvert->notebook>=4.4.1->widgetsnbextension~=3.5.0->ipywidgets>=7.0.0->pydeck>=0.1.dev5->streamlit>=0.63->streamlit_option_menu) (0.5.3)\n",
      "Requirement already satisfied: tinycss2 in c:\\users\\u344173\\anaconda3\\lib\\site-packages (from nbconvert->notebook>=4.4.1->widgetsnbextension~=3.5.0->ipywidgets>=7.0.0->pydeck>=0.1.dev5->streamlit>=0.63->streamlit_option_menu) (1.1.1)\n",
      "Requirement already satisfied: defusedxml in c:\\users\\u344173\\anaconda3\\lib\\site-packages (from nbconvert->notebook>=4.4.1->widgetsnbextension~=3.5.0->ipywidgets>=7.0.0->pydeck>=0.1.dev5->streamlit>=0.63->streamlit_option_menu) (0.7.1)\n",
      "Requirement already satisfied: pandocfilters>=1.4.1 in c:\\users\\u344173\\anaconda3\\lib\\site-packages (from nbconvert->notebook>=4.4.1->widgetsnbextension~=3.5.0->ipywidgets>=7.0.0->pydeck>=0.1.dev5->streamlit>=0.63->streamlit_option_menu) (1.4.3)\n",
      "Requirement already satisfied: async-generator in c:\\users\\u344173\\anaconda3\\lib\\site-packages (from nbclient>=0.5.0->nbconvert->notebook>=4.4.1->widgetsnbextension~=3.5.0->ipywidgets>=7.0.0->pydeck>=0.1.dev5->streamlit>=0.63->streamlit_option_menu) (1.10)\n",
      "Requirement already satisfied: nest-asyncio in c:\\users\\u344173\\anaconda3\\lib\\site-packages (from nbclient>=0.5.0->nbconvert->notebook>=4.4.1->widgetsnbextension~=3.5.0->ipywidgets>=7.0.0->pydeck>=0.1.dev5->streamlit>=0.63->streamlit_option_menu) (1.5.1)\n",
      "Requirement already satisfied: soupsieve>1.2 in c:\\users\\u344173\\anaconda3\\lib\\site-packages (from beautifulsoup4->nbconvert->notebook>=4.4.1->widgetsnbextension~=3.5.0->ipywidgets>=7.0.0->pydeck>=0.1.dev5->streamlit>=0.63->streamlit_option_menu) (2.2.1)\n",
      "Requirement already satisfied: webencodings in c:\\users\\u344173\\anaconda3\\lib\\site-packages (from bleach->nbconvert->notebook>=4.4.1->widgetsnbextension~=3.5.0->ipywidgets>=7.0.0->pydeck>=0.1.dev5->streamlit>=0.63->streamlit_option_menu) (0.5.1)\n",
      "Requirement already satisfied: pyparsing>=2.0.2 in c:\\users\\u344173\\anaconda3\\lib\\site-packages (from packaging->streamlit>=0.63->streamlit_option_menu) (3.0.4)\n",
      "Requirement already satisfied: urllib3<1.27,>=1.21.1 in c:\\users\\u344173\\anaconda3\\lib\\site-packages (from requests->streamlit>=0.63->streamlit_option_menu) (1.26.7)\n",
      "Requirement already satisfied: charset-normalizer~=2.0.0 in c:\\users\\u344173\\anaconda3\\lib\\site-packages (from requests->streamlit>=0.63->streamlit_option_menu) (2.0.4)\n",
      "Requirement already satisfied: certifi>=2017.4.17 in c:\\users\\u344173\\anaconda3\\lib\\site-packages (from requests->streamlit>=0.63->streamlit_option_menu) (2021.10.8)\n",
      "Requirement already satisfied: idna<4,>=2.5 in c:\\users\\u344173\\anaconda3\\lib\\site-packages (from requests->streamlit>=0.63->streamlit_option_menu) (3.2)\n",
      "Requirement already satisfied: commonmark<0.10.0,>=0.9.0 in c:\\users\\u344173\\anaconda3\\lib\\site-packages (from rich->streamlit>=0.63->streamlit_option_menu) (0.9.1)\n",
      "Requirement already satisfied: pytz-deprecation-shim in c:\\users\\u344173\\anaconda3\\lib\\site-packages (from tzlocal->streamlit>=0.63->streamlit_option_menu) (0.1.0.post0)\n",
      "Requirement already satisfied: tzdata in c:\\users\\u344173\\anaconda3\\lib\\site-packages (from tzlocal->streamlit>=0.63->streamlit_option_menu) (2022.1)\n",
      "Installing collected packages: streamlit-option-menu\n",
      "Successfully installed streamlit-option-menu-0.3.2\n"
     ]
    }
   ],
   "source": [
    "#!pip install --proxy=http://array  streamlit_option_menu"
   ]
  },
  {
   "cell_type": "markdown",
   "metadata": {},
   "source": [
    "# Atena - Coelba \n",
    "\n",
    "## Seleção Estratégica de Cortes \n",
    "\n",
    "Qualquer sugestão, reclamação ou dúvida:\n",
    "\n",
    "<li>E-mail: <a>hfontes@neoenergia.com</a></li>\n",
    "<li>Telefone: + 55 (84) 3215-6492</li> \n",
    "<li>Celular/Wpp: + 55 (84) 99668-7815</li> \n",
    "<li>E-mail: <a>arthur.alves@neoenergia.com</a></li>\n",
    "\n",
    "<li> numpy deve estar na versão 1.21.4. </li>"
   ]
  },
  {
   "cell_type": "markdown",
   "metadata": {},
   "source": [
    "<a href=\"http://localhost:8888/tree/OneDrive - IBERDROLA S.A/Atena/sources/Sqls\" target='_blank'> \n",
    "Alterar ou visualizar query de clientes susceptíveis ao corte </a>"
   ]
  },
  {
   "cell_type": "code",
   "execution_count": 6,
   "metadata": {},
   "outputs": [
    {
     "name": "stdout",
     "output_type": "stream",
     "text": [
      "Usuário: ETB348056\n",
      "Senha: ········\n"
     ]
    }
   ],
   "source": [
    "from sources.interface_selecao_cortes_000000 import *\n",
    "import warnings\n",
    "import getpass \n",
    "\n",
    "warnings.filterwarnings('ignore') \n",
    "\n",
    "#usuario = \"ETB348056\"\n",
    "#Usuário e Senha Hana\n",
    "\n",
    "usuario = input('Usuário: ')\n",
    "senha = getpass.getpass('Senha: ')\n",
    "\n"
   ]
  },
  {
   "cell_type": "code",
   "execution_count": 7,
   "metadata": {},
   "outputs": [
    {
     "data": {
      "application/vnd.jupyter.widget-view+json": {
       "model_id": "bb45e3d2fdad4fb7ad69bf3e3e657f14",
       "version_major": 2,
       "version_minor": 0
      },
      "text/plain": [
       "VBox(children=(HBox(children=(Label(value='Onde Consultar:', layout=Layout(height='40px', margin='0px 40px 10p…"
      ]
     },
     "metadata": {},
     "output_type": "display_data"
    }
   ],
   "source": [
    "atena = SelecaoLayout(usuario, senha)"
   ]
  },
  {
   "cell_type": "code",
   "execution_count": 5,
   "metadata": {},
   "outputs": [
    {
     "name": "stdout",
     "output_type": "stream",
     "text": [
      "Não foi possível carregar a interface index 0 is out of bounds for axis 0 with size 0\n"
     ]
    }
   ],
   "source": [
    "atena.show()"
   ]
  }
 ],
 "metadata": {
  "kernelspec": {
   "display_name": "Python 3 (ipykernel)",
   "language": "python",
   "name": "python3"
  },
  "language_info": {
   "codemirror_mode": {
    "name": "ipython",
    "version": 3
   },
   "file_extension": ".py",
   "mimetype": "text/x-python",
   "name": "python",
   "nbconvert_exporter": "python",
   "pygments_lexer": "ipython3",
   "version": "3.9.7"
  }
 },
 "nbformat": 4,
 "nbformat_minor": 2
}
