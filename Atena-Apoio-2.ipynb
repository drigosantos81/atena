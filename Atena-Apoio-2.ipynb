{
 "cells": [
  {
   "cell_type": "markdown",
   "metadata": {},
   "source": [
    "# Atena - Coelba \n",
    "\n",
    "## Seleção Estratégica de Cortes \n",
    "\n",
    "\n",
    "Qualquer sugestão, reclamação ou dúvida:\n",
    "\n",
    "<li>E-mail: <a>hfontes@neoenergia.com</a></li>\n",
    "<li>Telefone: + 55 (84) 3215-6492</li> \n",
    "<li>Celular/Wpp: + 55 (84) 99668-7815</li> \n",
    "<li>E-mail: <a>arthur.alves@neoenergia.com</a></li>\n",
    "\n",
    "\n",
    "<li> numpy deve estar na versão 1.21.4. <li>"
   ]
  },
  {
   "cell_type": "markdown",
   "metadata": {},
   "source": [
    "<a href=\"http://localhost:8888/tree/OneDrive - IBERDROLA S.A/Atena/sources/Sqls\" target='_blank'> \n",
    "Alterar ou visualizar query de clientes susceptíveis ao corte </a>"
   ]
  },
  {
   "cell_type": "code",
   "execution_count": null,
   "metadata": {},
   "outputs": [],
   "source": [
    "from sources.interface_selecao_cortes_3_0 import *\n",
    "#from sources.interface_selecao_cortes_Copy29 import *\n",
    "import warnings\n",
    "import getpass \n",
    "\n",
    "warnings.filterwarnings('ignore') \n",
    "\n",
    "#usuario = \"ETB348056\"\n",
    "#Usuário e Senha Hana\n",
    "\n",
    "usuario = input('Usuário: ')\n",
    "senha = getpass.getpass('Senha: ')"
   ]
  },
  {
   "cell_type": "code",
   "execution_count": null,
   "metadata": {},
   "outputs": [],
   "source": [
    "atena = SelecaoLayout(usuario, senha)"
   ]
  },
  {
   "cell_type": "code",
   "execution_count": null,
   "metadata": {
    "scrolled": false
   },
   "outputs": [],
   "source": [
    "atena.show()"
   ]
  }
 ],
 "metadata": {
  "kernelspec": {
   "display_name": "Python 3 (ipykernel)",
   "language": "python",
   "name": "python3"
  },
  "language_info": {
   "codemirror_mode": {
    "name": "ipython",
    "version": 3
   },
   "file_extension": ".py",
   "mimetype": "text/x-python",
   "name": "python",
   "nbconvert_exporter": "python",
   "pygments_lexer": "ipython3",
   "version": "3.9.7"
  }
 },
 "nbformat": 4,
 "nbformat_minor": 2
}
