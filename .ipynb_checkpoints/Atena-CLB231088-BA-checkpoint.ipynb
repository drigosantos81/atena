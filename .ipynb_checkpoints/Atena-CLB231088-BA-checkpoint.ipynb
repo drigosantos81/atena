{
 "cells": [
  {
   "cell_type": "markdown",
   "metadata": {},
   "source": [
    "# Atena - Coelba \n",
    "\n",
    "## Seleção Estratégica de Cortes \n",
    "\n",
    "\n",
    "Qualquer sugestão, reclamação ou dúvida:\n",
    "\n",
    "<li>E-mail: <a>hfontes@neoenergia.com</a></li>\n",
    "<li>Telefone: + 55 (84) 3215-6492</li> \n",
    "<li>Celular/Wpp: + 55 (84) 99668-7815</li> \n",
    "<li>E-mail: <a>arthur.alves@neoenergia.com</a></li>\n",
    "\n",
    "\n",
    "<li> numpy deve estar na versão 1.21.4. <li>\n"
   ]
  },
  {
   "cell_type": "markdown",
   "metadata": {},
   "source": [
    "<a href=\"http://localhost:8888/tree/OneDrive - IBERDROLA S.A/Atena/sources/Sqls\" target='_blank'> \n",
    "Alterar ou visualizar query de clientes susceptíveis ao corte </a>"
   ]
  },
  {
   "cell_type": "code",
   "execution_count": 1,
   "metadata": {},
   "outputs": [
    {
     "name": "stdout",
     "output_type": "stream",
     "text": [
      "Usuário: ETB348056\n",
      "Senha: ········\n"
     ]
    }
   ],
   "source": [
    "from sources.interface_selecao_cortes_3_0 import *\n",
    "import warnings\n",
    "import getpass \n",
    "\n",
    "warnings.filterwarnings('ignore') \n",
    "\n",
    "#usuario = \"ETB348056\"\n",
    "#Usuário e Senha Hana\n",
    "\n",
    "usuario = input('Usuário: ')\n",
    "senha = getpass.getpass('Senha: ')"
   ]
  },
  {
   "cell_type": "code",
   "execution_count": 2,
   "metadata": {
    "scrolled": false
   },
   "outputs": [
    {
     "data": {
      "application/vnd.jupyter.widget-view+json": {
       "model_id": "2368f0885c864eaab0db3fc81671185c",
       "version_major": 2,
       "version_minor": 0
      },
      "text/plain": [
       "VBox(children=(HBox(children=(Label(value='Onde Consultar:', layout=Layout(height='40px', margin='0px 40px 10p…"
      ]
     },
     "metadata": {},
     "output_type": "display_data"
    }
   ],
   "source": [
    "atena = SelecaoLayout(usuario, senha)"
   ]
  },
  {
   "cell_type": "code",
   "execution_count": 3,
   "metadata": {},
   "outputs": [
    {
     "data": {
      "application/vnd.jupyter.widget-view+json": {
       "model_id": "b09bd5c702a64f0ca3400d48ab7c3e44",
       "version_major": 2,
       "version_minor": 0
      },
      "text/plain": [
       "Tab(children=(VBox(children=(HTML(value='<style>table {\\n    margin-left: auto;\\n    margin-right: auto;\\n    …"
      ]
     },
     "metadata": {},
     "output_type": "display_data"
    }
   ],
   "source": [
    "atena.show()"
   ]
  },
  {
   "cell_type": "code",
   "execution_count": null,
   "metadata": {},
   "outputs": [],
   "source": [
    "atena.conf_sm['MIN_QTD_FTV'] =\"\""
   ]
  },
  {
   "cell_type": "code",
   "execution_count": null,
   "metadata": {},
   "outputs": [],
   "source": [
    "for i,row in atena.conf_sm.iterrows():\n",
    "    if  row.MIN_QTD_FTV != \"\" and ('MIN_QTD_FTV' in row):\n",
    "        print(row)"
   ]
  },
  {
   "cell_type": "code",
   "execution_count": null,
   "metadata": {},
   "outputs": [],
   "source": [
    "atena.selecao.dfn.loc[atena.selecao.dfn['ZCGQTFTVE'] < 40]"
   ]
  },
  {
   "cell_type": "code",
   "execution_count": null,
   "metadata": {},
   "outputs": [],
   "source": [
    "atena.teste"
   ]
  },
  {
   "cell_type": "code",
   "execution_count": 13,
   "metadata": {},
   "outputs": [],
   "source": [
    "from IPython.display import clear_output"
   ]
  },
  {
   "cell_type": "code",
   "execution_count": 29,
   "metadata": {},
   "outputs": [],
   "source": [
    "def on_b(b):\n",
    "    clear_output()\n",
    "    tab = atena.show()\n",
    "    display(tab) "
   ]
  },
  {
   "cell_type": "code",
   "execution_count": 30,
   "metadata": {},
   "outputs": [],
   "source": [
    "button = widgets.Button(description='Click here')\n",
    "button.on_click(on_b)"
   ]
  },
  {
   "cell_type": "code",
   "execution_count": 172,
   "metadata": {},
   "outputs": [],
   "source": [
    "def tab_1():\n",
    "    margin_conf = '0px 20px 0px 0px'\n",
    "    \n",
    "    html_titulo = widgets.HTML(value = \"<header> ATENA LOGIN </header>\",\n",
    "                               layout = widgets.Layout(width = '50%',height='50px',margin = '0px 0px 0px 20px'))\n",
    "    \n",
    "    label_user = widgets.Label('Usuário:', layout = widgets.Layout(width='50px',height = '50px',margin= margin_conf))\n",
    "    label_senha = widgets.Label('Senha:', layout = widgets.Layout(width='50px',height = '50px',margin= margin_conf))\n",
    "    senha = widgets.Password(placeholder = 'Insira a Senha')\n",
    "    usuario = widgets.Text(placeholder = 'Insira o usuário')\n",
    "    \n",
    "    hbox1 = widgets.HBox(children = [label_user,usuario])\n",
    "    hbox2 = widgets.HBox(children = [label_senha,senha])\n",
    "    layout_1 = widgets.TwoByTwoLayout(top_left = label_user, top_right = usuario)\n",
    "    layout_2 = widgets.TwoByTwoLayout(top_left = label_senha, top_right = senha)\n",
    "    app = widgets.AppLayout(header=html_titulo,\n",
    "          left_sidebar=layout_1,\n",
    "          center=layout_2,\n",
    "          right_sidebar=None,\n",
    "          footer=None)\n",
    "    \n",
    "    def on_b(b):\n",
    "        tab = atena.show()\n",
    "        clear_output()\n",
    "        display(tab) \n",
    "    button = widgets.Button(description='Conectar',\n",
    "                            button_style = 'Info',\n",
    "                            icon = 'key',layout=widgets.Layout(width = '43%', height = '50px'))\n",
    "    button.on_click(on_b)\n",
    "    \n",
    "    vbox1 = widgets.VBox(children = [html_titulo,hbox1,hbox2, button])\n",
    "    \n",
    "    return vbox1"
   ]
  },
  {
   "cell_type": "code",
   "execution_count": 173,
   "metadata": {},
   "outputs": [],
   "source": [
    "vbox = tab_1()"
   ]
  },
  {
   "cell_type": "code",
   "execution_count": 174,
   "metadata": {},
   "outputs": [
    {
     "data": {
      "application/vnd.jupyter.widget-view+json": {
       "model_id": "6c0de3e9475b4dc1a4e4e5fb40e1f714",
       "version_major": 2,
       "version_minor": 0
      },
      "text/plain": [
       "VBox(children=(HTML(value='<header> ATENA LOGIN </header>', layout=Layout(grid_area='header', height='50px', m…"
      ]
     },
     "metadata": {},
     "output_type": "display_data"
    }
   ],
   "source": [
    "vbox"
   ]
  },
  {
   "cell_type": "code",
   "execution_count": null,
   "metadata": {},
   "outputs": [],
   "source": []
  }
 ],
 "metadata": {
  "kernelspec": {
   "display_name": "Python 3 (ipykernel)",
   "language": "python",
   "name": "python3"
  },
  "language_info": {
   "codemirror_mode": {
    "name": "ipython",
    "version": 3
   },
   "file_extension": ".py",
   "mimetype": "text/x-python",
   "name": "python",
   "nbconvert_exporter": "python",
   "pygments_lexer": "ipython3",
   "version": "3.9.7"
  }
 },
 "nbformat": 4,
 "nbformat_minor": 2
}
