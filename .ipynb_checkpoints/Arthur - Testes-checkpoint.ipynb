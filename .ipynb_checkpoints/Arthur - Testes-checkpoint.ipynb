{
 "cells": [
  {
   "cell_type": "code",
   "execution_count": 1,
   "id": "e11b14ad",
   "metadata": {},
   "outputs": [
    {
     "name": "stdout",
     "output_type": "stream",
     "text": [
      "Usuário: ETB348056\n",
      "Senha: ········\n"
     ]
    }
   ],
   "source": [
    "from sources.interface_selecao_cortes_3_0 import *\n",
    "import warnings\n",
    "import getpass \n",
    "\n",
    "\n",
    "warnings.filterwarnings('ignore') \n",
    " \n",
    "#usuario = \"ETB348056\"\n",
    "#Usuário e Senha Hana\n",
    "\n",
    "usuario = input('Usuário: ')\n",
    "senha = getpass.getpass('Senha: ')"
   ]
  },
  {
   "cell_type": "code",
   "execution_count": 2,
   "id": "e27804f6",
   "metadata": {
    "scrolled": false
   },
   "outputs": [
    {
     "data": {
      "application/vnd.jupyter.widget-view+json": {
       "model_id": "ca315d03518647208da0bf6f625891c7",
       "version_major": 2,
       "version_minor": 0
      },
      "text/plain": [
       "VBox(children=(HBox(children=(Label(value='Onde Consultar:', layout=Layout(height='40px', margin='0px 40px 10p…"
      ]
     },
     "metadata": {},
     "output_type": "display_data"
    }
   ],
   "source": [
    "atena = SelecaoLayout(usuario, senha)"
   ]
  },
  {
   "cell_type": "code",
   "execution_count": 3,
   "id": "f053fae6",
   "metadata": {
    "scrolled": false
   },
   "outputs": [
    {
     "data": {
      "application/vnd.jupyter.widget-view+json": {
       "model_id": "b0e54409fe404fefb063db88c867b853",
       "version_major": 2,
       "version_minor": 0
      },
      "text/plain": [
       "Tab(children=(VBox(children=(HTML(value='<style>table {\\n    margin-left: auto;\\n    margin-right: auto;\\n    …"
      ]
     },
     "metadata": {},
     "output_type": "display_data"
    }
   ],
   "source": [
    "atena.show()"
   ]
  },
  {
   "cell_type": "code",
   "execution_count": null,
   "id": "59b88bc8",
   "metadata": {},
   "outputs": [],
   "source": [
    "atena.sql_select.value"
   ]
  },
  {
   "cell_type": "code",
   "execution_count": null,
   "id": "7446bbdc",
   "metadata": {},
   "outputs": [],
   "source": [
    "atena.selecao.dfn.loc[atena.selecao.dfn['UTD']=='BARREIRAS']"
   ]
  },
  {
   "cell_type": "code",
   "execution_count": null,
   "id": "8b8c73a1",
   "metadata": {},
   "outputs": [],
   "source": [
    "atena.selecao.dfn.sort_values(by=['PECLD'],ascending=False).head(40)[['ZCGACCOUN','IRR','PECLD']]"
   ]
  },
  {
   "cell_type": "code",
   "execution_count": null,
   "id": "54e0f996",
   "metadata": {},
   "outputs": [],
   "source": [
    "sorted_1 = atena.selecao.dfn.sort_values(by=['IRR'],ascending=False)[['ZCGACCOUN','SCORE','IRR','PECLD','MTV_COB']]"
   ]
  },
  {
   "cell_type": "code",
   "execution_count": null,
   "id": "b689fa9e",
   "metadata": {},
   "outputs": [],
   "source": [
    "sorted_1.shape[0]"
   ]
  },
  {
   "cell_type": "code",
   "execution_count": null,
   "id": "98b903b2",
   "metadata": {},
   "outputs": [],
   "source": [
    "atena.selecao.dfn.loc[atena.selecao.dfn['irr'].isna()]"
   ]
  },
  {
   "cell_type": "code",
   "execution_count": null,
   "id": "f6a631de",
   "metadata": {},
   "outputs": [],
   "source": [
    "sorted_1.loc[sorted_1.IRR.isna()]"
   ]
  },
  {
   "cell_type": "code",
   "execution_count": null,
   "id": "4a82383f",
   "metadata": {},
   "outputs": [],
   "source": [
    "atena.selecao.dfn.loc[atena.selecao.dfn['IRR'] == atena.selecao.dfn.IRR.max()]"
   ]
  },
  {
   "cell_type": "code",
   "execution_count": null,
   "id": "8171a86e",
   "metadata": {},
   "outputs": [],
   "source": [
    "import math"
   ]
  },
  {
   "cell_type": "code",
   "execution_count": null,
   "id": "fda331b2",
   "metadata": {},
   "outputs": [],
   "source": [
    "pecld=  pd.DataFrame()"
   ]
  },
  {
   "cell_type": "code",
   "execution_count": null,
   "id": "1771f708",
   "metadata": {},
   "outputs": [],
   "source": [
    "pecld['VALUE'] = ( np.log10(atena.selecao.dfn['PECLD']) - math.log(atena.selecao.dfn['PECLD'].min(),10))/(math.log(atena.selecao.dfn['PECLD'].max(),10) -math.log(atena.selecao.dfn['PECLD'].min(),10) )"
   ]
  },
  {
   "cell_type": "code",
   "execution_count": null,
   "id": "a4de7d64",
   "metadata": {},
   "outputs": [],
   "source": [
    "atena.selecao.dfn.sort_values(by=['PECLD'],ascending=False)['PECLD'].head(20)"
   ]
  },
  {
   "cell_type": "code",
   "execution_count": null,
   "id": "edb956e1",
   "metadata": {},
   "outputs": [],
   "source": [
    "pecld.merge(atena.selecao.dfn['PECLD'],how='left',on=index)"
   ]
  },
  {
   "cell_type": "code",
   "execution_count": null,
   "id": "eba62bd1",
   "metadata": {},
   "outputs": [],
   "source": [
    "pecld.shape[0]"
   ]
  },
  {
   "cell_type": "code",
   "execution_count": null,
   "id": "9581ccd7",
   "metadata": {},
   "outputs": [],
   "source": [
    "pecld.sort_values(by=['PECLD'],ascending =False).iloc[int(pecld.shape[0]/2)-60000:int(pecld.shape[0]/2)]"
   ]
  },
  {
   "cell_type": "code",
   "execution_count": null,
   "id": "d8dcb9a2",
   "metadata": {},
   "outputs": [],
   "source": [
    "pecld['PECLD']=atena.selecao.dfn['PECLD']"
   ]
  },
  {
   "cell_type": "code",
   "execution_count": null,
   "id": "57cc49f0",
   "metadata": {},
   "outputs": [],
   "source": [
    "pecld.plot.hist(bins=120)"
   ]
  },
  {
   "cell_type": "code",
   "execution_count": null,
   "id": "0f5653cd",
   "metadata": {},
   "outputs": [],
   "source": [
    "atena.botao_realizar_selecao.disabled = False"
   ]
  },
  {
   "cell_type": "code",
   "execution_count": null,
   "id": "b4585694",
   "metadata": {},
   "outputs": [],
   "source": [
    "q = atena.selecao.dfn[\"PECLD\"].quantile(0.97) "
   ]
  },
  {
   "cell_type": "code",
   "execution_count": null,
   "id": "c84c8781",
   "metadata": {},
   "outputs": [],
   "source": [
    "pecld = atena.selecao.dfn['PECLD']\n",
    "pecld = pecld.loc[pecld<q]"
   ]
  },
  {
   "cell_type": "code",
   "execution_count": null,
   "id": "f10f5daa",
   "metadata": {},
   "outputs": [],
   "source": [
    "pecld['minmax'] = pecld['value']"
   ]
  },
  {
   "cell_type": "code",
   "execution_count": null,
   "id": "ffce17cb",
   "metadata": {},
   "outputs": [],
   "source": [
    "pecld.plot.hist(bins=20)"
   ]
  },
  {
   "cell_type": "code",
   "execution_count": null,
   "id": "9b5639df",
   "metadata": {},
   "outputs": [],
   "source": [
    "pecld.loc[pecld<pecld.median()]"
   ]
  },
  {
   "cell_type": "code",
   "execution_count": null,
   "id": "5d89afc8",
   "metadata": {},
   "outputs": [],
   "source": [
    "score = pd.DataFrame()"
   ]
  },
  {
   "cell_type": "code",
   "execution_count": null,
   "id": "7b92d200",
   "metadata": {},
   "outputs": [],
   "source": [
    "score['VALUE'] = ( np.log10(atena.selecao.dfn['SCORE']) - math.log(atena.selecao.dfn['SCORE'].min(),10))/(math.log(atena.selecao.dfn['SCORE'].max(),10) -math.log(atena.selecao.dfn['SCORE'].min(),10) )"
   ]
  },
  {
   "cell_type": "code",
   "execution_count": null,
   "id": "b2cb6d66",
   "metadata": {},
   "outputs": [],
   "source": [
    "score.plot.hist(bins = 12)"
   ]
  },
  {
   "cell_type": "code",
   "execution_count": null,
   "id": "a9b5cb8c",
   "metadata": {},
   "outputs": [],
   "source": [
    "from sklearn.preprocessing import robust_scale "
   ]
  },
  {
   "cell_type": "code",
   "execution_count": null,
   "id": "a8b15c7c",
   "metadata": {},
   "outputs": [],
   "source": [
    "score_na = atena.selecao.dfn['SCORE'].dropna()"
   ]
  },
  {
   "cell_type": "code",
   "execution_count": null,
   "id": "80ac0154",
   "metadata": {},
   "outputs": [],
   "source": [
    "score_na_robust  = pd.DataFrame()\n",
    "score_na_robust['values'] = robust_scale(score_na)\n",
    "\n",
    "score_na_robust.sort_values(by = ['values'],ascending = False).tail(10)"
   ]
  },
  {
   "cell_type": "code",
   "execution_count": null,
   "id": "9733f871",
   "metadata": {},
   "outputs": [],
   "source": [
    "pecld_robust_scale  = pd.DataFrame()\n",
    "pecld_robust_scale['values']=robust_scale(atena.selecao.dfn['PECLD'])\n",
    "q_r_s = pecld_robust_scale['values'].quantile(0.99) \n",
    "(pecld_robust_scale.loc[pecld_robust_scale['values'] < q_r_s]['values']\n",
    " -pecld_robust_scale['values'].min()).plot.hist(bins = 100)"
   ]
  },
  {
   "cell_type": "code",
   "execution_count": null,
   "id": "e479b67d",
   "metadata": {},
   "outputs": [],
   "source": [
    "pecld_minmax = pecld_robust_scale.loc[pecld_robust_scale['values'] < q_r_s]['values']\n",
    " -pecld_robust_scale['values'].min()"
   ]
  },
  {
   "cell_type": "code",
   "execution_count": null,
   "id": "fec2d53f",
   "metadata": {},
   "outputs": [],
   "source": [
    "pecld_robust_scale.loc[pecld_robust_scale['values'] < q_r_s]['values']-pecld_robust_scale['values'].min()"
   ]
  },
  {
   "cell_type": "code",
   "execution_count": null,
   "id": "9a9fe796",
   "metadata": {},
   "outputs": [],
   "source": [
    "score_na_robust.plot.hist(bins=20)"
   ]
  },
  {
   "cell_type": "code",
   "execution_count": null,
   "id": "6e0081c4",
   "metadata": {},
   "outputs": [],
   "source": [
    "from sklearn.preprocessing import StandardScaler"
   ]
  },
  {
   "cell_type": "code",
   "execution_count": null,
   "id": "785e1549",
   "metadata": {},
   "outputs": [],
   "source": [
    "atena.selecao.dfn['SCORE'].plot.hist(bins = 8)"
   ]
  },
  {
   "cell_type": "code",
   "execution_count": null,
   "id": "4037ea0f",
   "metadata": {},
   "outputs": [],
   "source": []
  },
  {
   "cell_type": "code",
   "execution_count": null,
   "id": "7b1ee620",
   "metadata": {},
   "outputs": [],
   "source": []
  },
  {
   "cell_type": "code",
   "execution_count": null,
   "id": "98637f27",
   "metadata": {},
   "outputs": [],
   "source": []
  },
  {
   "cell_type": "code",
   "execution_count": null,
   "id": "fee4049e",
   "metadata": {},
   "outputs": [],
   "source": []
  },
  {
   "cell_type": "code",
   "execution_count": null,
   "id": "e2c012a0",
   "metadata": {},
   "outputs": [],
   "source": []
  },
  {
   "cell_type": "code",
   "execution_count": null,
   "id": "78db145e",
   "metadata": {},
   "outputs": [],
   "source": [
    "atena.html_centroides.layout.height = '500px'"
   ]
  },
  {
   "cell_type": "code",
   "execution_count": null,
   "id": "762dbe11",
   "metadata": {},
   "outputs": [],
   "source": [
    "if (atena.carteira_def.value):\n",
    "    print('yo')"
   ]
  },
  {
   "cell_type": "code",
   "execution_count": null,
   "id": "2fb21227",
   "metadata": {},
   "outputs": [],
   "source": [
    "','.join([str(int(a.loc[a['cluster_id']==i]['dist'].max())) for i in a.cluster_id.unique()])\n",
    " "
   ]
  },
  {
   "cell_type": "code",
   "execution_count": null,
   "id": "175b3a4f",
   "metadata": {
    "scrolled": false
   },
   "outputs": [],
   "source": [
    "t = [i for i in atena.selecao.selecionados.cluster.unique()]"
   ]
  },
  {
   "cell_type": "code",
   "execution_count": null,
   "id": "47537837",
   "metadata": {},
   "outputs": [],
   "source": [
    "a = atena.selecao.selecionados.copy()"
   ]
  },
  {
   "cell_type": "code",
   "execution_count": null,
   "id": "db6bc6f9",
   "metadata": {},
   "outputs": [],
   "source": [
    "import locale \n",
    "locale.setlocale(locale.LC_ALL, 'pt_BR.UTF-8')"
   ]
  },
  {
   "cell_type": "code",
   "execution_count": null,
   "id": "f66794b5",
   "metadata": {},
   "outputs": [],
   "source": [
    "atena.selecao.dfn['MTV_COB'] = locale.format(\"%.2f\",atena.selecao.dfn['MTV_COB'],grouping = True)"
   ]
  },
  {
   "cell_type": "code",
   "execution_count": null,
   "id": "6b640279",
   "metadata": {},
   "outputs": [],
   "source": [
    "atena.importar_clusterconf(atena.botao_importar_conf)"
   ]
  },
  {
   "cell_type": "code",
   "execution_count": null,
   "id": "a529f787",
   "metadata": {},
   "outputs": [],
   "source": [
    "\n",
    "\n",
    "sql = \"\"\"SELECT MARCACAO,HORA FROM {tabela} \n",
    "                WHERE DATA_PEDIDO = CURRENT_DATE \n",
    "                AND MARCACAO IS NOT NULL\n",
    "                AND HORA IS NOT NULL\n",
    "                GROUP BY MARCACAO, HORA \"\"\".format(tabela='CLB961920.ATENA_HIST')\n",
    "\n",
    "try:\n",
    "    connection_hana = dbapi.connect(\n",
    "                   address='BRNEO695',\n",
    "                   port='30015',\n",
    "                   user=atena._SelecaoLayout__usuario,\n",
    "                   password=atena._SelecaoLayout__senha,\n",
    "                   databasename='BNP',\n",
    "                   sslValidateCertificate=False\n",
    "    )\n",
    "\n",
    "    marc_grav = pd.read_sql(sql, connection_hana)\n",
    "\n",
    "    if marc_grav.shape[0]>0:\n",
    "\n",
    "        marc_grav = marc_grav.loc[marc_grav['HORA']==marc_grav['HORA'].max()]\n",
    "\n",
    "        marc_grav = marc_grav['MARCACAO'].str[-3:]\n",
    "        marc_grav = marc_grav.astype(int)\n",
    "        marc_grav_max = marc_grav.max()\n",
    "        #cluster na marcação máximo de 3 linhas\n",
    "        if marc_grav_max == 999: marc_grav_max = 0\n",
    "        atena.marc_insert = marc_grav_max\n",
    "    else:\n",
    "        atena.marc_insert = 0\n",
    "except Exception as e:\n",
    "    print(e)"
   ]
  },
  {
   "cell_type": "code",
   "execution_count": null,
   "id": "ee04963c",
   "metadata": {},
   "outputs": [],
   "source": [
    "atena.marc_insert"
   ]
  },
  {
   "cell_type": "code",
   "execution_count": null,
   "id": "45c4d48b",
   "metadata": {},
   "outputs": [],
   "source": [
    "sql_conf"
   ]
  },
  {
   "cell_type": "code",
   "execution_count": null,
   "id": "f3214683",
   "metadata": {},
   "outputs": [],
   "source": [
    "atena.update_marcacao('resultados/STC_MISTA_1605.xlsx')"
   ]
  },
  {
   "cell_type": "code",
   "execution_count": null,
   "id": "9a592ddd",
   "metadata": {},
   "outputs": [],
   "source": [
    " arquivo_hist = pd.read_excel('resultados/STC_MISTA_1605.xlsx',converters={'ZCGACCOUN': str,'ZONA': str, 'MARCACAO': str,'MARC_ZONA': str})"
   ]
  },
  {
   "cell_type": "code",
   "execution_count": null,
   "id": "5976d85e",
   "metadata": {},
   "outputs": [],
   "source": [
    "def update_marcacao(arquivo,self):\n",
    " \n",
    "    for i in arquivo.MARCACAO.unique():\n",
    "        if arquivo.loc[arquivo['MARCACAO']==i]['MARC_ZONA'].unique()[:3][0] == 'MIX':\n",
    "            if arquivo.loc[arquivo['MARCACAO'] == i].ZONA.unique().shape[0] == 1:\n",
    "                arquivo.loc[arquivo['MARCACAO']==i,'MARC_ZONA'] = arquivo.loc[arquivo['MARCACAO'] == i].ZONA.unique()[0].lstrip('0')\n",
    "        self.marc_insert = self.marc_insert + 1\n",
    "        arquivo.loc[arquivo['MARCACAO']==i,'MARCACAO'] = str(today.day).zfill(2) + arquivo.loc[arquivo['MARCACAO']==i]['MARC_ZONA'].str.lstrip(\"0\").str.zfill(3) + str(self.marc_insert).zfill(3)\n",
    "\n",
    "    return arquivo"
   ]
  },
  {
   "cell_type": "code",
   "execution_count": null,
   "id": "4f237483",
   "metadata": {},
   "outputs": [],
   "source": [
    "t = update_marcacao(arquivo_hist,self=atena)"
   ]
  },
  {
   "cell_type": "code",
   "execution_count": null,
   "id": "4728ef8f",
   "metadata": {},
   "outputs": [],
   "source": [
    "t.MARCACAO.unique()"
   ]
  },
  {
   "cell_type": "code",
   "execution_count": null,
   "id": "e59e643d",
   "metadata": {},
   "outputs": [],
   "source": [
    "atena.marc_insert"
   ]
  },
  {
   "cell_type": "code",
   "execution_count": null,
   "id": "81f4aa91",
   "metadata": {},
   "outputs": [],
   "source": [
    "connection_hana = dbapi.connect(\n",
    "               address='BRNEO695',\n",
    "               port='30015',\n",
    "               user=atena._SelecaoLayout__usuario,\n",
    "               password=atena._SelecaoLayout__senha,\n",
    "               databasename='BNP',\n",
    "               sslValidateCertificate=False\n",
    ")"
   ]
  },
  {
   "cell_type": "code",
   "execution_count": null,
   "id": "2db75cb4",
   "metadata": {},
   "outputs": [],
   "source": [
    "sql_importar = \"\"\"SELECT TURMA,ZCGUTD AS UTD,CARTEIRA,AVG(LATITUDE) AS LATITUDE, AVG(LONGITUDE)\n",
    "AS LONGITUDE, MARCACAO, CAST(\"cluster\" AS INT) AS \"cluster\",CAST(RAIO AS INT) AS RAIO, ZCGIDZONA AS ZONA\n",
    "\n",
    "FROM CLB961920.ATENA_HIST ah \n",
    "\n",
    "WHERE DATA_PEDIDO = {data_pedido}\n",
    "AND FLAG_DEF = 'N'\n",
    "\n",
    "GROUP BY TURMA, CARTEIRA,ZCGUTD,MARCACAO, RAIO, ZCGIDZONA,\"cluster\" \"\"\".format(data_pedido = 'ADD_DAYS(CURRENT_DATE,-1)')"
   ]
  },
  {
   "cell_type": "code",
   "execution_count": null,
   "id": "46713dc7",
   "metadata": {},
   "outputs": [],
   "source": [
    "conf = pd.read_sql(sql_importar, connection_hana)"
   ]
  },
  {
   "cell_type": "code",
   "execution_count": null,
   "id": "66bfccbc",
   "metadata": {},
   "outputs": [],
   "source": [
    "conf"
   ]
  },
  {
   "cell_type": "code",
   "execution_count": null,
   "id": "8b64ca25",
   "metadata": {},
   "outputs": [],
   "source": [
    "conf.loc[conf['ZONA']== 351]"
   ]
  },
  {
   "cell_type": "code",
   "execution_count": null,
   "id": "415adbf7",
   "metadata": {},
   "outputs": [],
   "source": [
    "def get_saved_clusters():\n",
    "        sql_importar = \"\"\"SELECT TURMA,ZCGUTD AS UTD,CARTEIRA,AVG(LATITUDE) AS LATITUDE, AVG(LONGITUDE)\n",
    "        AS LONGITUDE, MARCACAO, CAST(\"cluster\" AS INT) AS \"cluster\",CAST(RAIO AS INT) AS RAIO, ZCGIDZONA AS ZONA,\n",
    "        count(*) AS QTD, SUM(ZCGMTVCOB) AS MTV_COB,SUM(ZCGPECLD) AS PECLD\n",
    "\n",
    "        FROM CLB961920.ATENA_HIST ah \n",
    "\n",
    "        WHERE DATA_PEDIDO = {data_pedido}\n",
    "        AND FLAG_DEF = 'N'\n",
    "\n",
    "        GROUP BY TURMA, CARTEIRA,ZCGUTD,MARCACAO, RAIO, ZCGIDZONA,\"cluster\" \"\"\".format(data_pedido = 'ADD_DAYS(CURRENT_DATE,-1)') \n",
    "        \n",
    "        connection_hana = dbapi.connect(\n",
    "               address='BRNEO695',\n",
    "               port='30015',\n",
    "               user=atena._SelecaoLayout__usuario,\n",
    "               password=atena._SelecaoLayout__senha,\n",
    "               databasename='BNP',\n",
    "               sslValidateCertificate=False)\n",
    "        \n",
    "        \n",
    "        \n",
    "        clusters = pd.read_sql(sql_importar, connection_hana)\n",
    "        \n",
    "        return clusters\n",
    "        \n",
    "        "
   ]
  },
  {
   "cell_type": "code",
   "execution_count": null,
   "id": "7f4d40f7",
   "metadata": {},
   "outputs": [],
   "source": [
    "def preencher_cluster(self,marcacao,UTD: str=None, locali: list = None,zona: list = None, \n",
    "                municipio: list = None, bairros: list = None, local: str = None,\n",
    "                preencher: str = None, qtd_preencher:int = 0):\n",
    "\n",
    "    \"\"\"\n",
    "    Função que realiza o preenchimento de um cluster com outro tipo de serviço\n",
    "\n",
    "    :param UTD: UTD para filtrar os clientes\n",
    "    :param zona: Zona para filtrar os clientes\n",
    "    :param bairros: bairros para filtrar os clientes\n",
    "    :param municipio: municipio dos clientes a serem selecionados\n",
    "    :param r_max_preciso: maior precisão na seleção do raio máximo do cluster, mas pode diminui o IRR\n",
    "    :param min_selecionados: número mínimos de clientes a serem selecionados por cluster original\n",
    "    :preencher: carteira para realizar o preenchimento do cluster\n",
    "    :qtd_preencher: quantidade de clientes para ser adicionado ao cluster, caso seja passado o valor 0 o cluster original será preenchido conforme defasagem\n",
    "    \"\"\"             \n",
    "\n",
    "\n",
    "    selecionados_tot = pd.DataFrame()\n",
    "    accoun_selecionadas = []\n",
    "\n",
    "    ucs = self.selecao.dfn.copy()\n",
    "    ucs = ucs.dropna(subset=['LATITUDE', 'LONGITUDE'])\n",
    "\n",
    "    centroides = get_saved_clusters()\n",
    "    centroides = centroides.loc[centroides['MARCACAO'].isin(marcacao)].reset_index()\n",
    "\n",
    "    \n",
    "    if preencher and 'SERVICO' in ucs:\n",
    "        ucs = ucs.loc[ucs['SERVICO'] == preencher]\n",
    "    \n",
    "    elif 'SERVICO' in ucs:\n",
    "        ucs = ucs.loc[ucs['SERVICO']==centroides['CARTEIRA'].iloc[0]]\n",
    "        \n",
    "    \n",
    "    \n",
    "    if UTD:\n",
    "        ucs = ucs.loc[ucs['UTD'] == UTD]\n",
    "\n",
    "    if zona:\n",
    "        \n",
    "        for i in range(len(zona)):\n",
    "            zona[i] = zona[i].zfill(4)\n",
    "            \n",
    "        ucs = ucs.loc[ucs['ZONA'].isin(zona)]\n",
    "    if municipio:\n",
    "        ucs = ucs.loc[ucs['ZCGMUNICI'].isin(municipio)]\n",
    "\n",
    "    if bairros:\n",
    "        ucs = ucs.loc[ucs['ZCGBAIRRO'].isin(bairros)]\n",
    "    if locali:\n",
    "        ucs = ucs.loc[ucs['ZCGLOCALI'].isin(locali)]\n",
    "    if local == 'R':\n",
    "        ucs = ucs.loc[ucs['ZCGTIPLOC'] == 'R']\n",
    "    elif local == 'U':\n",
    "        ucs = ucs.loc[ucs['ZCGTIPLOC'] == 'U']\n",
    "    \n",
    "\n",
    "    if 'irr' not in ucs:\n",
    "        ucs['irr'] = ucs['IRR']\n",
    "        \n",
    "    \n",
    "            \n",
    "\n",
    "    for i in range(centroides.MARCACAO.unique().shape[0]):\n",
    "        ucs = ucs[~ucs.ZCGACCOUN.isin(accoun_selecionadas)]\n",
    "        #centroide = centroides.loc[centroides['MARCACAO']==i]\n",
    "        \n",
    "        r = centroides['RAIO'].iloc[i]\n",
    "     \n",
    "        carteira = centroides['CARTEIRA'].iloc[i]\n",
    "        \n",
    "        if qtd_preencher > 0:\n",
    "\n",
    "            ucs['raio'] = self.selecao.calcular_distancia(centroides.iloc[i][['LATITUDE', 'LONGITUDE']],\n",
    "                                                            ucs[['LATITUDE', 'LONGITUDE']]) \n",
    "            \n",
    "            selecionados = ucs.loc[ucs['raio'] <= r].sort_values('irr', ascending=False)[:qtd_preencher]\n",
    "\n",
    "\n",
    "            selecionados['dist'] = self.selecao.calcular_distancia(\n",
    "                centroides.iloc[i][['LATITUDE', 'LONGITUDE']],\n",
    "                selecionados[['LATITUDE', 'LONGITUDE']])\n",
    "\n",
    "           #5\n",
    "            selecionados.drop(columns = ['raio'],inplace=True)\n",
    "            selecionados['CARTEIRA'] = carteira\n",
    "            selecionados['cluster'] =  centroides['cluster'].iloc[i]\n",
    "            selecionados['MARCACAO'] = centroides['MARCACAO'].iloc[i]\n",
    "            #selecionados['MARC_ZONA'] = self.selecionados.loc[self.selecionados['cluster']==i]['MARC_ZONA'].iloc[0]\n",
    "            selecionados['RAIO'] = r\n",
    "            selecionados['BYPASS'] = True\n",
    "\n",
    "            accoun_selecionadas.append(selecionados['ZCGACCOUN'].to_list())\n",
    "\n",
    "            selecionados_tot = selecionados_tot.append(selecionados)\n",
    "\n",
    "   \n",
    "    #self.selecionados = self.selecionados.append(sel ecionados_tot)\n",
    "    \n",
    "\n",
    "    return selecionados_tot"
   ]
  },
  {
   "cell_type": "code",
   "execution_count": null,
   "id": "7e893f85",
   "metadata": {},
   "outputs": [],
   "source": [
    "preencher = preencher_cluster(self = atena,marcacao = ['18233043'],\n",
    "                              qtd_preencher = 3)"
   ]
  },
  {
   "cell_type": "code",
   "execution_count": null,
   "id": "6d5fd3d1",
   "metadata": {},
   "outputs": [],
   "source": [
    "preencher"
   ]
  },
  {
   "cell_type": "code",
   "execution_count": null,
   "id": "c2e4bc3a",
   "metadata": {},
   "outputs": [],
   "source": [
    "preencher.loc[preencher['MARCACAO'].str[:2] == str(today.day-1)]"
   ]
  },
  {
   "cell_type": "code",
   "execution_count": null,
   "id": "ea8cf6bc",
   "metadata": {},
   "outputs": [],
   "source": [
    "preencher['CARTEIRA']"
   ]
  },
  {
   "cell_type": "code",
   "execution_count": null,
   "id": "fe8cd7e9",
   "metadata": {},
   "outputs": [],
   "source": [
    "clusters = get_saved_clusters()"
   ]
  },
  {
   "cell_type": "code",
   "execution_count": null,
   "id": "4b64c6ab",
   "metadata": {},
   "outputs": [],
   "source": [
    "clusters.iloc[0][['LATITUDE','LONGITUDE']]"
   ]
  },
  {
   "cell_type": "code",
   "execution_count": null,
   "id": "33980f1b",
   "metadata": {},
   "outputs": [],
   "source": [
    "clusters.loc[clusters['MARCACAO']=='18233043']"
   ]
  },
  {
   "cell_type": "code",
   "execution_count": null,
   "id": "eef3e3a0",
   "metadata": {},
   "outputs": [],
   "source": [
    "t = ['10','20','30']"
   ]
  },
  {
   "cell_type": "code",
   "execution_count": null,
   "id": "5cca6f24",
   "metadata": {},
   "outputs": [],
   "source": [
    "for i in range(len(t)):\n",
    "    t[i] = t[i].zfill(4)"
   ]
  },
  {
   "cell_type": "code",
   "execution_count": null,
   "id": "dab8dc62",
   "metadata": {},
   "outputs": [],
   "source": [
    "table=\"\"\"<table>\n",
    "                    <tr>\n",
    "                        <th>TURMA </th>\n",
    "                        <th>UTD </th>\n",
    "                        <th>CARTEIRA</th>\n",
    "                        <th>CLUSTER</th>\n",
    "                        <th>RAIO (m)</th>\n",
    "                        <th>MTVCOB (R$)</th>\n",
    "                        <th>PECLD CONS (R$)</th>\n",
    "                        <th>CLIENTES</th>\n",
    "                    </tr>\n",
    "                  \"\"\""
   ]
  },
  {
   "cell_type": "code",
   "execution_count": null,
   "id": "b5c2c949",
   "metadata": {},
   "outputs": [],
   "source": [
    "for i in range(clusters.shape[0]):\n",
    "    table += \"\"\"<tr>\n",
    "                        <td>{0}</td>\n",
    "                        <td>{1}</td>\n",
    "                        <td>{2}</td>\n",
    "                        <td>{3}</td>\n",
    "                        <td>{4}</td>\n",
    "                        <td>{5}</td>\n",
    "                        <td>{6}</td>\n",
    "                        <td>{7}</td>\n",
    "                    </tr>\n",
    "                  \"\"\".format(clusters['TURMA'].iloc[i],\n",
    "                            clusters['UTD'].iloc[i],\n",
    "                            clusters['CARTEIRA'].iloc[i],\n",
    "                            clusters['cluster'].iloc[i],\n",
    "                            clusters['RAIO'].iloc[i],\n",
    "                            locale.format(\"%.2f\",round(clusters['MTV_COB'].iloc[i],2),grouping = True),\n",
    "                            locale.format(\"%.2f\",round(clusters['PECLD'].iloc[i],2),grouping = True),\n",
    "                            clusters['QTD'].iloc[i])"
   ]
  },
  {
   "cell_type": "code",
   "execution_count": null,
   "id": "1d9b4a7e",
   "metadata": {},
   "outputs": [],
   "source": [
    "import ipywidgets as widgets\n",
    "from ipywidgets import Button, Layout\n",
    "b=widgets.HTML(\n",
    "    value= table,\n",
    "    disabled=True\n",
    ")\n",
    "a = widgets.HBox([b], layout=Layout(height='500px', overflow_y='auto'))\n",
    "display(a)"
   ]
  },
  {
   "cell_type": "code",
   "execution_count": null,
   "id": "8c9cde1e",
   "metadata": {},
   "outputs": [],
   "source": [
    "import locale"
   ]
  },
  {
   "cell_type": "code",
   "execution_count": null,
   "id": "811f2439",
   "metadata": {},
   "outputs": [],
   "source": [
    "locale.setlocale(locale.LC_ALL, 'pt_BR.UTF-8')"
   ]
  },
  {
   "cell_type": "code",
   "execution_count": null,
   "id": "e0a93b40",
   "metadata": {},
   "outputs": [],
   "source": [
    "locale.currency(round(clusters['MTV_COB'].iloc[i],2),grouping=True)"
   ]
  },
  {
   "cell_type": "code",
   "execution_count": null,
   "id": "97b7d1d2",
   "metadata": {},
   "outputs": [],
   "source": [
    "locale.format(\"%.2f\", round(clusters['MTV_COB'].iloc[i],2), grouping = True)"
   ]
  },
  {
   "cell_type": "code",
   "execution_count": null,
   "id": "6d9a13c1",
   "metadata": {},
   "outputs": [],
   "source": [
    "table=\"\"\"<table>\n",
    "                    <tr>\n",
    "                        <th>ZCGACCOUN </th>\n",
    "                        <th>UTD </th>\n",
    "                        <th>ZCGMUNICI</th>\n",
    "                        <th>ZONA</th>\n",
    "                        <th>LOCALIDADE</th>\n",
    "                        <th>MTVCOB (R$)</th>\n",
    "                        <th>PECLD CONS (R$)</th>\n",
    "                        <th>ZCGQTFTVE</th>\n",
    "                    </tr>\n",
    "                  \"\"\""
   ]
  },
  {
   "cell_type": "code",
   "execution_count": null,
   "id": "bc757d67",
   "metadata": {},
   "outputs": [],
   "source": [
    "atena.selecao.dfn['ZCGQTFTVE'].iloc[1]"
   ]
  },
  {
   "cell_type": "code",
   "execution_count": null,
   "id": "462f46fd",
   "metadata": {},
   "outputs": [],
   "source": [
    "t = atena.selecao.dfn.loc[atena.selecao.dfn['UTD']=='GRACA'].head(5).reset_index()"
   ]
  },
  {
   "cell_type": "code",
   "execution_count": null,
   "id": "e4e62973",
   "metadata": {},
   "outputs": [],
   "source": [
    "locale.format(\"%.2f\",atena.selecao.dfn['PECLD'].max(),grouping=True)"
   ]
  },
  {
   "cell_type": "code",
   "execution_count": null,
   "id": "b38b5fa0",
   "metadata": {},
   "outputs": [],
   "source": [
    "teste = ['a','b']"
   ]
  },
  {
   "cell_type": "code",
   "execution_count": null,
   "id": "400bbaed",
   "metadata": {},
   "outputs": [],
   "source": [
    "teste + [\"\"]"
   ]
  },
  {
   "cell_type": "code",
   "execution_count": null,
   "id": "84065ca7",
   "metadata": {},
   "outputs": [],
   "source": []
  }
 ],
 "metadata": {
  "kernelspec": {
   "display_name": "Python 3 (ipykernel)",
   "language": "python",
   "name": "python3"
  },
  "language_info": {
   "codemirror_mode": {
    "name": "ipython",
    "version": 3
   },
   "file_extension": ".py",
   "mimetype": "text/x-python",
   "name": "python",
   "nbconvert_exporter": "python",
   "pygments_lexer": "ipython3",
   "version": "3.9.7"
  }
 },
 "nbformat": 4,
 "nbformat_minor": 5
}
