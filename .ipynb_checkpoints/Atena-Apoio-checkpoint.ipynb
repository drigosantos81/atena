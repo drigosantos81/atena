{
 "cells": [
  {
   "cell_type": "markdown",
   "metadata": {},
   "source": [
    "# Atena - Coelba \n",
    "\n",
    "## Seleção Estratégica de Cortes \n",
    "\n",
    "\n",
    "Qualquer sugestão, reclamação ou dúvida:\n",
    "\n",
    "<li>E-mail: <a>hfontes@neoenergia.com</a></li>\n",
    "<li>Telefone: + 55 (84) 3215-6492</li> \n",
    "<li>Celular/Wpp: + 55 (84) 99668-7815</li> \n",
    "<li>E-mail: <a>arthur.alves@neoenergia.com</a></li>\n",
    "\n",
    "\n",
    "<li> numpy deve estar na versão 1.21.4. <li>"
   ]
  },
  {
   "cell_type": "markdown",
   "metadata": {},
   "source": [
    "<a href=\"http://localhost:8888/tree/OneDrive - IBERDROLA S.A/Atena/sources/Sqls\" target='_blank'> \n",
    "Alterar ou visualizar query de clientes susceptíveis ao corte </a>"
   ]
  },
  {
   "cell_type": "code",
   "execution_count": 1,
   "metadata": {},
   "outputs": [
    {
     "name": "stdout",
     "output_type": "stream",
     "text": [
      "Usuário: CLB352618\n",
      "Senha: ········\n"
     ]
    }
   ],
   "source": [
    "from sources.interface_selecao_cortes_3_0 import *\n",
    "#from sources.interface_selecao_cortes_Copy29 import *\n",
    "import warnings\n",
    "import getpass \n",
    "\n",
    "warnings.filterwarnings('ignore') \n",
    "\n",
    "#usuario = \"ETB348056\"\n",
    "#Usuário e Senha Hana\n",
    "\n",
    "usuario = input('Usuário: ')\n",
    "senha = getpass.getpass('Senha: ')"
   ]
  },
  {
   "cell_type": "code",
   "execution_count": 2,
   "metadata": {},
   "outputs": [
    {
     "data": {
      "application/vnd.jupyter.widget-view+json": {
       "model_id": "d2aac195405a436d88f34bb9fffe7ada",
       "version_major": 2,
       "version_minor": 0
      },
      "text/plain": [
       "VBox(children=(HBox(children=(Label(value='Onde Consultar:', layout=Layout(height='40px', margin='0px 40px 10p…"
      ]
     },
     "metadata": {},
     "output_type": "display_data"
    }
   ],
   "source": [
    "atena = SelecaoLayout(usuario, senha)"
   ]
  },
  {
   "cell_type": "code",
   "execution_count": 3,
   "metadata": {
    "scrolled": false
   },
   "outputs": [
    {
     "data": {
      "application/vnd.jupyter.widget-view+json": {
       "model_id": "4db00f1af9e846e08da148f4bf3ce7f2",
       "version_major": 2,
       "version_minor": 0
      },
      "text/plain": [
       "Tab(children=(VBox(children=(HTML(value='<style>table {\\n    margin-left: auto;\\n    margin-right: auto;\\n    …"
      ]
     },
     "metadata": {},
     "output_type": "display_data"
    }
   ],
   "source": [
    "atena.show()"
   ]
  }
 ],
 "metadata": {
  "kernelspec": {
   "display_name": "Python 3 (ipykernel)",
   "language": "python",
   "name": "python3"
  },
  "language_info": {
   "codemirror_mode": {
    "name": "ipython",
    "version": 3
   },
   "file_extension": ".py",
   "mimetype": "text/x-python",
   "name": "python",
   "nbconvert_exporter": "python",
   "pygments_lexer": "ipython3",
   "version": "3.9.7"
  }
 },
 "nbformat": 4,
 "nbformat_minor": 2
}
