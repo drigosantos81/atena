{
 "cells": [
  {
   "cell_type": "markdown",
   "metadata": {},
   "source": [
    "# Relatório da Seleção do Atena - Coelba \n",
    "\n",
    "\n",
    "<li> Defasagem. <li>"
   ]
  },
  {
   "cell_type": "code",
   "execution_count": 4,
   "metadata": {},
   "outputs": [
    {
     "name": "stdout",
     "output_type": "stream",
     "text": [
      "[Errno 2] No such file or directory: '\\\\\\\\BRNEP242\\\\Publico\\\\DDT\\\\PR\\\\SCL\\\\CCO\\\\COGC\\\\Equipe\\\\CRRC\\\\2. Plano de Recuperação de Créditos\\\\\\\\Dashboard Cobranca Set22.xlsb'\n"
     ]
    }
   ],
   "source": [
    "from pathos.pools import ProcessPool\n",
    "import os\n",
    "import streamlit as st\n",
    "from streamlit_option_menu import option_menu\n",
    "import warnings\n",
    "import getpass \n",
    "import datetime\n",
    "import time ; from datetime import date,timedelta\n",
    "from hdbcli import dbapi\n",
    "import pandas as pd\n",
    "from st_aggrid import AgGrid, GridOptionsBuilder\n",
    "from st_aggrid.shared import GridUpdateMode\n",
    "from copy import deepcopy\n",
    "import hydralit_components as hc\n",
    "import matplotlib.pyplot as plt\n",
    "import numpy as np\n",
    "from dateutil.relativedelta import relativedelta\n",
    "from streamlit_folium import folium_static\n",
    "import folium\n",
    "import plotly.express as px\n",
    "import folium.plugins as plugins\n",
    "from folium.plugins import FastMarkerCluster\n",
    "import json\n",
    "import xlsxwriter\n",
    "from io import BytesIO\n",
    "\n",
    "\n",
    "aba_metas = \"Base (Planejado)\"\n",
    "aba_orcamento = \"Orçamento\"\n",
    "ano_inteiro_hoje = str(date.today().year)\n",
    "ano_hoje = str(date.today().year)[2:]\n",
    "mes_hoje = int(date.today().month)\n",
    "mes_anterior = int(date.today().month) - 1\n",
    "mes_anterior_2 = int(date.today().month) - 2\n",
    "if len(str(mes_hoje)) == 1:\n",
    "  mes_hoje_str = '0' + str(mes_hoje)\n",
    "if len(str(mes_anterior)) == 1:\n",
    "  mes_anterior_str = '0' + str(mes_anterior)\n",
    "if len(str(mes_anterior_2)) == 1:\n",
    "  mes_anterior_2_str = '0' + str(mes_anterior_2)\n",
    "filtro_mes_ref = int(ano_inteiro_hoje + mes_hoje_str)\n",
    "filtro_mes_ref_orcamento = int(ano_inteiro_hoje + mes_anterior_str)\n",
    "filtro_mes_ref_orcamento_2 = int(ano_inteiro_hoje + mes_anterior_2_str)\n",
    "\n",
    "if mes_hoje == 1:\n",
    "  nome_arquivo = \"Dashboard Cobranca Jan\"+ano_hoje\n",
    "elif mes_hoje == 2:\n",
    "  nome_arquivo = \"Dashboard Cobranca Fev\"+ano_hoje\n",
    "  nome_arquivo_anterior = \"Dashboard Cobranca Jan\"+ano_hoje\n",
    "elif mes_hoje == 3:\n",
    "  nome_arquivo = \"Dashboard Cobranca Mar\"+ano_hoje\n",
    "  nome_arquivo_anterior = \"Dashboard Cobranca Fev\"+ano_hoje\n",
    "elif mes_hoje == 4:\n",
    "  nome_arquivo = \"Dashboard Cobranca Abr\"+ano_hoje\n",
    "  nome_arquivo_anterior = \"Dashboard Cobranca Mar\"+ano_hoje\n",
    "elif mes_hoje == 5:\n",
    "  nome_arquivo = \"Dashboard Cobranca Mai\"+ano_hoje\n",
    "  nome_arquivo_anterior = \"Dashboard Cobranca Abr\"+ano_hoje\n",
    "elif mes_hoje == 6:\n",
    "  nome_arquivo = \"Dashboard Cobranca Jun\"+ano_hoje\n",
    "  nome_arquivo_anterior = \"Dashboard Cobranca Mai\"+ano_hoje\n",
    "elif mes_hoje == 7:\n",
    "  nome_arquivo = \"Dashboard Cobranca Jul\"+ano_hoje\n",
    "  nome_arquivo_anterior = \"Dashboard Cobranca Jun\"+ano_hoje\n",
    "elif mes_hoje == 8:\n",
    "  nome_arquivo = \"Dashboard Cobranca Ago\"+ano_hoje\n",
    "  nome_arquivo_anterior = \"Dashboard Cobranca Jul\"+ano_hoje\n",
    "elif mes_hoje == 9:\n",
    "  nome_arquivo = \"Dashboard Cobranca Set\"+ano_hoje\n",
    "  nome_arquivo_anterior =\"Dashboard Cobranca Ago\"+ano_hoje\n",
    "elif mes_hoje == 10:\n",
    "  nome_arquivo = \"Dashboard Cobranca Out\"+ano_hoje\n",
    "  nome_arquivo_anterior = \"Dashboard Cobranca Set\"+ano_hoje\n",
    "elif mes_hoje == 11:\n",
    "  nome_arquivo = \"Dashboard Cobranca Nov\"+ano_hoje\n",
    "  nome_arquivo_anterior = \"Dashboard Cobranca Out\"+ano_hoje\n",
    "elif mes_hoje == 12:\n",
    "  nome_arquivo = \"Dashboard Cobranca Dez\"+ano_hoje\n",
    "  nome_arquivo_anterior = \"Dashboard Cobranca Nov\"+ano_hoje\n",
    "\n",
    "arquivo_dashboard = r'\\\\BRNEP242\\Publico\\DDT\\PR\\SCL\\CCO\\COGC\\Equipe\\CRRC\\2. Plano de Recuperação de Créditos\\\\{}.xlsb'.format(nome_arquivo)\n",
    "\n",
    "try:\n",
    "  df_metas = pd.read_excel(arquivo_dashboard,sheet_name = aba_metas)\n",
    "  df_orcamento = pd.read_excel(arquivo_dashboard,sheet_name = aba_orcamento)\n",
    "except Exception as e:\n",
    "  print(e)\n",
    "  try: \n",
    "      arquivo_dashboard = r'\\\\BRNEP242\\Publico\\DDT\\PR\\SCL\\CCO\\COGC\\Equipe\\CRRC\\2. Plano de Recuperação de Créditos\\\\{}.xlsb'.format(nome_arquivo_anterior)\n",
    "      df_metas = pd.read_excel(arquivo_dashboard,sheet_name = aba_metas)\n",
    "      df_orcamento = pd.read_excel(arquivo_dashboard,sheet_name = aba_orcamento)\n",
    "      filtro_mes_ref_orcamento = filtro_mes_ref_orcamento_2\n",
    "  except Exception as e:\n",
    "      print(e)\n",
    "\n",
    "df_metas = df_metas[['MESREF','SETOR','UTD','TURMA','ATIVIDADE','QTD']]\n",
    "df_metas = pd.DataFrame(df_metas.groupby(['MESREF','SETOR','UTD','TURMA','ATIVIDADE'])['QTD'].sum()).reset_index()\n",
    "\n",
    "df_metas.rename(columns = {'ATIVIDADE' : 'CARTEIRA','QTD':'QTD_META'}, inplace = True)\n",
    "df_metas['QTD_META'] = df_metas['QTD_META'].fillna(0)\n",
    "df_metas['QTD_META'] = df_metas['QTD_META'].astype(int)\n",
    "df_metas = df_metas[((df_metas['MESREF'] == filtro_mes_ref))]\n",
    "df_metas.loc[(df_metas.TURMA == \"PRÓPRIA\"), \"TURMA\"] = \"STC\""
   ]
  },
  {
   "cell_type": "code",
   "execution_count": 3,
   "metadata": {},
   "outputs": [
    {
     "name": "stdout",
     "output_type": "stream",
     "text": [
      "Collecting pyxlsb\n",
      "  Downloading pyxlsb-1.0.9-py2.py3-none-any.whl (23 kB)\n",
      "Installing collected packages: pyxlsb\n",
      "Successfully installed pyxlsb-1.0.9\n"
     ]
    }
   ],
   "source": [
    "!pip install --proxy=http://array pyxlsb"
   ]
  }
 ],
 "metadata": {
  "kernelspec": {
   "display_name": "Python 3 (ipykernel)",
   "language": "python",
   "name": "python3"
  },
  "language_info": {
   "codemirror_mode": {
    "name": "ipython",
    "version": 3
   },
   "file_extension": ".py",
   "mimetype": "text/x-python",
   "name": "python",
   "nbconvert_exporter": "python",
   "pygments_lexer": "ipython3",
   "version": "3.9.7"
  }
 },
 "nbformat": 4,
 "nbformat_minor": 2
}
